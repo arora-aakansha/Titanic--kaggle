{
 "cells": [
  {
   "cell_type": "code",
   "execution_count": 1,
   "id": "63200bb4",
   "metadata": {
    "_cell_guid": "b1076dfc-b9ad-4769-8c92-a6c4dae69d19",
    "_uuid": "8f2839f25d086af736a60e9eeb907d3b93b6e0e5",
    "execution": {
     "iopub.execute_input": "2025-02-11T23:38:26.413503Z",
     "iopub.status.busy": "2025-02-11T23:38:26.413143Z",
     "iopub.status.idle": "2025-02-11T23:38:27.548802Z",
     "shell.execute_reply": "2025-02-11T23:38:27.547354Z"
    },
    "papermill": {
     "duration": 1.142653,
     "end_time": "2025-02-11T23:38:27.550159",
     "exception": false,
     "start_time": "2025-02-11T23:38:26.407506",
     "status": "completed"
    },
    "tags": []
   },
   "outputs": [
    {
     "name": "stdout",
     "output_type": "stream",
     "text": [
      "/kaggle/input/titanic/train.csv\n",
      "/kaggle/input/titanic/test.csv\n",
      "/kaggle/input/titanic/gender_submission.csv\n"
     ]
    }
   ],
   "source": [
    "# This Python 3 environment comes with many helpful analytics libraries installed\n",
    "# It is defined by the kaggle/python Docker image: https://github.com/kaggle/docker-python\n",
    "# For example, here's several helpful packages to load\n",
    "\n",
    "import numpy as np # linear algebra\n",
    "import pandas as pd # data processing, CSV file I/O (e.g. pd.read_csv)\n",
    "\n",
    "# Input data files are available in the read-only \"../input/\" directory\n",
    "# For example, running this (by clicking run or pressing Shift+Enter) will list all files under the input directory\n",
    "\n",
    "import os\n",
    "for dirname, _, filenames in os.walk('/kaggle/input'):\n",
    "    for filename in filenames:\n",
    "        print(os.path.join(dirname, filename))\n",
    "\n",
    "# You can write up to 20GB to the current directory (/kaggle/working/) that gets preserved as output when you create a version using \"Save & Run All\" \n",
    "# You can also write temporary files to /kaggle/temp/, but they won't be saved outside of the current session"
   ]
  },
  {
   "cell_type": "code",
   "execution_count": null,
   "id": "4dc43b41",
   "metadata": {
    "papermill": {
     "duration": 0.00301,
     "end_time": "2025-02-11T23:38:27.556978",
     "exception": false,
     "start_time": "2025-02-11T23:38:27.553968",
     "status": "completed"
    },
    "tags": []
   },
   "outputs": [],
   "source": []
  },
  {
   "cell_type": "code",
   "execution_count": 2,
   "id": "85dabb27",
   "metadata": {
    "execution": {
     "iopub.execute_input": "2025-02-11T23:38:27.564310Z",
     "iopub.status.busy": "2025-02-11T23:38:27.563924Z",
     "iopub.status.idle": "2025-02-11T23:38:29.484838Z",
     "shell.execute_reply": "2025-02-11T23:38:29.483388Z"
    },
    "papermill": {
     "duration": 1.926593,
     "end_time": "2025-02-11T23:38:29.486664",
     "exception": false,
     "start_time": "2025-02-11T23:38:27.560071",
     "status": "completed"
    },
    "tags": []
   },
   "outputs": [],
   "source": [
    "import pandas as pd\n",
    "import numpy as np\n",
    "import seaborn as sns\n",
    "import matplotlib.pyplot as plt"
   ]
  },
  {
   "cell_type": "code",
   "execution_count": 3,
   "id": "6906b6f7",
   "metadata": {
    "execution": {
     "iopub.execute_input": "2025-02-11T23:38:29.497228Z",
     "iopub.status.busy": "2025-02-11T23:38:29.496687Z",
     "iopub.status.idle": "2025-02-11T23:38:30.897922Z",
     "shell.execute_reply": "2025-02-11T23:38:30.896699Z"
    },
    "papermill": {
     "duration": 1.408343,
     "end_time": "2025-02-11T23:38:30.899457",
     "exception": false,
     "start_time": "2025-02-11T23:38:29.491114",
     "status": "completed"
    },
    "tags": []
   },
   "outputs": [
    {
     "name": "stderr",
     "output_type": "stream",
     "text": [
      "/usr/local/lib/python3.10/dist-packages/pandas/io/formats/format.py:1458: RuntimeWarning: invalid value encountered in greater\n",
      "  has_large_values = (abs_vals > 1e6).any()\n",
      "/usr/local/lib/python3.10/dist-packages/pandas/io/formats/format.py:1459: RuntimeWarning: invalid value encountered in less\n",
      "  has_small_values = ((abs_vals < 10 ** (-self.digits)) & (abs_vals > 0)).any()\n",
      "/usr/local/lib/python3.10/dist-packages/pandas/io/formats/format.py:1459: RuntimeWarning: invalid value encountered in greater\n",
      "  has_small_values = ((abs_vals < 10 ** (-self.digits)) & (abs_vals > 0)).any()\n"
     ]
    },
    {
     "data": {
      "text/html": [
       "<div>\n",
       "<style scoped>\n",
       "    .dataframe tbody tr th:only-of-type {\n",
       "        vertical-align: middle;\n",
       "    }\n",
       "\n",
       "    .dataframe tbody tr th {\n",
       "        vertical-align: top;\n",
       "    }\n",
       "\n",
       "    .dataframe thead th {\n",
       "        text-align: right;\n",
       "    }\n",
       "</style>\n",
       "<table border=\"1\" class=\"dataframe\">\n",
       "  <thead>\n",
       "    <tr style=\"text-align: right;\">\n",
       "      <th></th>\n",
       "      <th>survived</th>\n",
       "      <th>pclass</th>\n",
       "      <th>sex</th>\n",
       "      <th>age</th>\n",
       "      <th>sibsp</th>\n",
       "      <th>parch</th>\n",
       "      <th>fare</th>\n",
       "      <th>embarked</th>\n",
       "      <th>class</th>\n",
       "      <th>who</th>\n",
       "      <th>adult_male</th>\n",
       "      <th>deck</th>\n",
       "      <th>embark_town</th>\n",
       "      <th>alive</th>\n",
       "      <th>alone</th>\n",
       "    </tr>\n",
       "  </thead>\n",
       "  <tbody>\n",
       "    <tr>\n",
       "      <th>0</th>\n",
       "      <td>0</td>\n",
       "      <td>3</td>\n",
       "      <td>male</td>\n",
       "      <td>22.0</td>\n",
       "      <td>1</td>\n",
       "      <td>0</td>\n",
       "      <td>7.2500</td>\n",
       "      <td>S</td>\n",
       "      <td>Third</td>\n",
       "      <td>man</td>\n",
       "      <td>True</td>\n",
       "      <td>NaN</td>\n",
       "      <td>Southampton</td>\n",
       "      <td>no</td>\n",
       "      <td>False</td>\n",
       "    </tr>\n",
       "    <tr>\n",
       "      <th>1</th>\n",
       "      <td>1</td>\n",
       "      <td>1</td>\n",
       "      <td>female</td>\n",
       "      <td>38.0</td>\n",
       "      <td>1</td>\n",
       "      <td>0</td>\n",
       "      <td>71.2833</td>\n",
       "      <td>C</td>\n",
       "      <td>First</td>\n",
       "      <td>woman</td>\n",
       "      <td>False</td>\n",
       "      <td>C</td>\n",
       "      <td>Cherbourg</td>\n",
       "      <td>yes</td>\n",
       "      <td>False</td>\n",
       "    </tr>\n",
       "    <tr>\n",
       "      <th>2</th>\n",
       "      <td>1</td>\n",
       "      <td>3</td>\n",
       "      <td>female</td>\n",
       "      <td>26.0</td>\n",
       "      <td>0</td>\n",
       "      <td>0</td>\n",
       "      <td>7.9250</td>\n",
       "      <td>S</td>\n",
       "      <td>Third</td>\n",
       "      <td>woman</td>\n",
       "      <td>False</td>\n",
       "      <td>NaN</td>\n",
       "      <td>Southampton</td>\n",
       "      <td>yes</td>\n",
       "      <td>True</td>\n",
       "    </tr>\n",
       "    <tr>\n",
       "      <th>3</th>\n",
       "      <td>1</td>\n",
       "      <td>1</td>\n",
       "      <td>female</td>\n",
       "      <td>35.0</td>\n",
       "      <td>1</td>\n",
       "      <td>0</td>\n",
       "      <td>53.1000</td>\n",
       "      <td>S</td>\n",
       "      <td>First</td>\n",
       "      <td>woman</td>\n",
       "      <td>False</td>\n",
       "      <td>C</td>\n",
       "      <td>Southampton</td>\n",
       "      <td>yes</td>\n",
       "      <td>False</td>\n",
       "    </tr>\n",
       "    <tr>\n",
       "      <th>4</th>\n",
       "      <td>0</td>\n",
       "      <td>3</td>\n",
       "      <td>male</td>\n",
       "      <td>35.0</td>\n",
       "      <td>0</td>\n",
       "      <td>0</td>\n",
       "      <td>8.0500</td>\n",
       "      <td>S</td>\n",
       "      <td>Third</td>\n",
       "      <td>man</td>\n",
       "      <td>True</td>\n",
       "      <td>NaN</td>\n",
       "      <td>Southampton</td>\n",
       "      <td>no</td>\n",
       "      <td>True</td>\n",
       "    </tr>\n",
       "    <tr>\n",
       "      <th>...</th>\n",
       "      <td>...</td>\n",
       "      <td>...</td>\n",
       "      <td>...</td>\n",
       "      <td>...</td>\n",
       "      <td>...</td>\n",
       "      <td>...</td>\n",
       "      <td>...</td>\n",
       "      <td>...</td>\n",
       "      <td>...</td>\n",
       "      <td>...</td>\n",
       "      <td>...</td>\n",
       "      <td>...</td>\n",
       "      <td>...</td>\n",
       "      <td>...</td>\n",
       "      <td>...</td>\n",
       "    </tr>\n",
       "    <tr>\n",
       "      <th>886</th>\n",
       "      <td>0</td>\n",
       "      <td>2</td>\n",
       "      <td>male</td>\n",
       "      <td>27.0</td>\n",
       "      <td>0</td>\n",
       "      <td>0</td>\n",
       "      <td>13.0000</td>\n",
       "      <td>S</td>\n",
       "      <td>Second</td>\n",
       "      <td>man</td>\n",
       "      <td>True</td>\n",
       "      <td>NaN</td>\n",
       "      <td>Southampton</td>\n",
       "      <td>no</td>\n",
       "      <td>True</td>\n",
       "    </tr>\n",
       "    <tr>\n",
       "      <th>887</th>\n",
       "      <td>1</td>\n",
       "      <td>1</td>\n",
       "      <td>female</td>\n",
       "      <td>19.0</td>\n",
       "      <td>0</td>\n",
       "      <td>0</td>\n",
       "      <td>30.0000</td>\n",
       "      <td>S</td>\n",
       "      <td>First</td>\n",
       "      <td>woman</td>\n",
       "      <td>False</td>\n",
       "      <td>B</td>\n",
       "      <td>Southampton</td>\n",
       "      <td>yes</td>\n",
       "      <td>True</td>\n",
       "    </tr>\n",
       "    <tr>\n",
       "      <th>888</th>\n",
       "      <td>0</td>\n",
       "      <td>3</td>\n",
       "      <td>female</td>\n",
       "      <td>NaN</td>\n",
       "      <td>1</td>\n",
       "      <td>2</td>\n",
       "      <td>23.4500</td>\n",
       "      <td>S</td>\n",
       "      <td>Third</td>\n",
       "      <td>woman</td>\n",
       "      <td>False</td>\n",
       "      <td>NaN</td>\n",
       "      <td>Southampton</td>\n",
       "      <td>no</td>\n",
       "      <td>False</td>\n",
       "    </tr>\n",
       "    <tr>\n",
       "      <th>889</th>\n",
       "      <td>1</td>\n",
       "      <td>1</td>\n",
       "      <td>male</td>\n",
       "      <td>26.0</td>\n",
       "      <td>0</td>\n",
       "      <td>0</td>\n",
       "      <td>30.0000</td>\n",
       "      <td>C</td>\n",
       "      <td>First</td>\n",
       "      <td>man</td>\n",
       "      <td>True</td>\n",
       "      <td>C</td>\n",
       "      <td>Cherbourg</td>\n",
       "      <td>yes</td>\n",
       "      <td>True</td>\n",
       "    </tr>\n",
       "    <tr>\n",
       "      <th>890</th>\n",
       "      <td>0</td>\n",
       "      <td>3</td>\n",
       "      <td>male</td>\n",
       "      <td>32.0</td>\n",
       "      <td>0</td>\n",
       "      <td>0</td>\n",
       "      <td>7.7500</td>\n",
       "      <td>Q</td>\n",
       "      <td>Third</td>\n",
       "      <td>man</td>\n",
       "      <td>True</td>\n",
       "      <td>NaN</td>\n",
       "      <td>Queenstown</td>\n",
       "      <td>no</td>\n",
       "      <td>True</td>\n",
       "    </tr>\n",
       "  </tbody>\n",
       "</table>\n",
       "<p>891 rows × 15 columns</p>\n",
       "</div>"
      ],
      "text/plain": [
       "     survived  pclass     sex   age  sibsp  parch     fare embarked   class  \\\n",
       "0           0       3    male  22.0      1      0   7.2500        S   Third   \n",
       "1           1       1  female  38.0      1      0  71.2833        C   First   \n",
       "2           1       3  female  26.0      0      0   7.9250        S   Third   \n",
       "3           1       1  female  35.0      1      0  53.1000        S   First   \n",
       "4           0       3    male  35.0      0      0   8.0500        S   Third   \n",
       "..        ...     ...     ...   ...    ...    ...      ...      ...     ...   \n",
       "886         0       2    male  27.0      0      0  13.0000        S  Second   \n",
       "887         1       1  female  19.0      0      0  30.0000        S   First   \n",
       "888         0       3  female   NaN      1      2  23.4500        S   Third   \n",
       "889         1       1    male  26.0      0      0  30.0000        C   First   \n",
       "890         0       3    male  32.0      0      0   7.7500        Q   Third   \n",
       "\n",
       "       who  adult_male deck  embark_town alive  alone  \n",
       "0      man        True  NaN  Southampton    no  False  \n",
       "1    woman       False    C    Cherbourg   yes  False  \n",
       "2    woman       False  NaN  Southampton   yes   True  \n",
       "3    woman       False    C  Southampton   yes  False  \n",
       "4      man        True  NaN  Southampton    no   True  \n",
       "..     ...         ...  ...          ...   ...    ...  \n",
       "886    man        True  NaN  Southampton    no   True  \n",
       "887  woman       False    B  Southampton   yes   True  \n",
       "888  woman       False  NaN  Southampton    no  False  \n",
       "889    man        True    C    Cherbourg   yes   True  \n",
       "890    man        True  NaN   Queenstown    no   True  \n",
       "\n",
       "[891 rows x 15 columns]"
      ]
     },
     "execution_count": 3,
     "metadata": {},
     "output_type": "execute_result"
    }
   ],
   "source": [
    "df = sns.load_dataset('titanic')\n",
    "df"
   ]
  },
  {
   "cell_type": "code",
   "execution_count": 4,
   "id": "1e88e370",
   "metadata": {
    "execution": {
     "iopub.execute_input": "2025-02-11T23:38:30.908675Z",
     "iopub.status.busy": "2025-02-11T23:38:30.908333Z",
     "iopub.status.idle": "2025-02-11T23:38:30.935941Z",
     "shell.execute_reply": "2025-02-11T23:38:30.934440Z"
    },
    "papermill": {
     "duration": 0.034239,
     "end_time": "2025-02-11T23:38:30.937759",
     "exception": false,
     "start_time": "2025-02-11T23:38:30.903520",
     "status": "completed"
    },
    "tags": []
   },
   "outputs": [
    {
     "name": "stdout",
     "output_type": "stream",
     "text": [
      "<class 'pandas.core.frame.DataFrame'>\n",
      "RangeIndex: 891 entries, 0 to 890\n",
      "Data columns (total 15 columns):\n",
      " #   Column       Non-Null Count  Dtype   \n",
      "---  ------       --------------  -----   \n",
      " 0   survived     891 non-null    int64   \n",
      " 1   pclass       891 non-null    int64   \n",
      " 2   sex          891 non-null    object  \n",
      " 3   age          714 non-null    float64 \n",
      " 4   sibsp        891 non-null    int64   \n",
      " 5   parch        891 non-null    int64   \n",
      " 6   fare         891 non-null    float64 \n",
      " 7   embarked     889 non-null    object  \n",
      " 8   class        891 non-null    category\n",
      " 9   who          891 non-null    object  \n",
      " 10  adult_male   891 non-null    bool    \n",
      " 11  deck         203 non-null    category\n",
      " 12  embark_town  889 non-null    object  \n",
      " 13  alive        891 non-null    object  \n",
      " 14  alone        891 non-null    bool    \n",
      "dtypes: bool(2), category(2), float64(2), int64(4), object(5)\n",
      "memory usage: 80.7+ KB\n"
     ]
    }
   ],
   "source": [
    "df.info()"
   ]
  },
  {
   "cell_type": "code",
   "execution_count": 5,
   "id": "8f2a3f86",
   "metadata": {
    "execution": {
     "iopub.execute_input": "2025-02-11T23:38:30.947023Z",
     "iopub.status.busy": "2025-02-11T23:38:30.946643Z",
     "iopub.status.idle": "2025-02-11T23:38:30.969892Z",
     "shell.execute_reply": "2025-02-11T23:38:30.968919Z"
    },
    "papermill": {
     "duration": 0.029229,
     "end_time": "2025-02-11T23:38:30.971255",
     "exception": false,
     "start_time": "2025-02-11T23:38:30.942026",
     "status": "completed"
    },
    "tags": []
   },
   "outputs": [
    {
     "data": {
      "text/html": [
       "<div>\n",
       "<style scoped>\n",
       "    .dataframe tbody tr th:only-of-type {\n",
       "        vertical-align: middle;\n",
       "    }\n",
       "\n",
       "    .dataframe tbody tr th {\n",
       "        vertical-align: top;\n",
       "    }\n",
       "\n",
       "    .dataframe thead th {\n",
       "        text-align: right;\n",
       "    }\n",
       "</style>\n",
       "<table border=\"1\" class=\"dataframe\">\n",
       "  <thead>\n",
       "    <tr style=\"text-align: right;\">\n",
       "      <th></th>\n",
       "      <th>survived</th>\n",
       "      <th>pclass</th>\n",
       "      <th>age</th>\n",
       "      <th>sibsp</th>\n",
       "      <th>parch</th>\n",
       "      <th>fare</th>\n",
       "    </tr>\n",
       "  </thead>\n",
       "  <tbody>\n",
       "    <tr>\n",
       "      <th>count</th>\n",
       "      <td>891.000000</td>\n",
       "      <td>891.000000</td>\n",
       "      <td>714.000000</td>\n",
       "      <td>891.000000</td>\n",
       "      <td>891.000000</td>\n",
       "      <td>891.000000</td>\n",
       "    </tr>\n",
       "    <tr>\n",
       "      <th>mean</th>\n",
       "      <td>0.383838</td>\n",
       "      <td>2.308642</td>\n",
       "      <td>29.699118</td>\n",
       "      <td>0.523008</td>\n",
       "      <td>0.381594</td>\n",
       "      <td>32.204208</td>\n",
       "    </tr>\n",
       "    <tr>\n",
       "      <th>std</th>\n",
       "      <td>0.486592</td>\n",
       "      <td>0.836071</td>\n",
       "      <td>14.526497</td>\n",
       "      <td>1.102743</td>\n",
       "      <td>0.806057</td>\n",
       "      <td>49.693429</td>\n",
       "    </tr>\n",
       "    <tr>\n",
       "      <th>min</th>\n",
       "      <td>0.000000</td>\n",
       "      <td>1.000000</td>\n",
       "      <td>0.420000</td>\n",
       "      <td>0.000000</td>\n",
       "      <td>0.000000</td>\n",
       "      <td>0.000000</td>\n",
       "    </tr>\n",
       "    <tr>\n",
       "      <th>25%</th>\n",
       "      <td>0.000000</td>\n",
       "      <td>2.000000</td>\n",
       "      <td>20.125000</td>\n",
       "      <td>0.000000</td>\n",
       "      <td>0.000000</td>\n",
       "      <td>7.910400</td>\n",
       "    </tr>\n",
       "    <tr>\n",
       "      <th>50%</th>\n",
       "      <td>0.000000</td>\n",
       "      <td>3.000000</td>\n",
       "      <td>28.000000</td>\n",
       "      <td>0.000000</td>\n",
       "      <td>0.000000</td>\n",
       "      <td>14.454200</td>\n",
       "    </tr>\n",
       "    <tr>\n",
       "      <th>75%</th>\n",
       "      <td>1.000000</td>\n",
       "      <td>3.000000</td>\n",
       "      <td>38.000000</td>\n",
       "      <td>1.000000</td>\n",
       "      <td>0.000000</td>\n",
       "      <td>31.000000</td>\n",
       "    </tr>\n",
       "    <tr>\n",
       "      <th>max</th>\n",
       "      <td>1.000000</td>\n",
       "      <td>3.000000</td>\n",
       "      <td>80.000000</td>\n",
       "      <td>8.000000</td>\n",
       "      <td>6.000000</td>\n",
       "      <td>512.329200</td>\n",
       "    </tr>\n",
       "  </tbody>\n",
       "</table>\n",
       "</div>"
      ],
      "text/plain": [
       "         survived      pclass         age       sibsp       parch        fare\n",
       "count  891.000000  891.000000  714.000000  891.000000  891.000000  891.000000\n",
       "mean     0.383838    2.308642   29.699118    0.523008    0.381594   32.204208\n",
       "std      0.486592    0.836071   14.526497    1.102743    0.806057   49.693429\n",
       "min      0.000000    1.000000    0.420000    0.000000    0.000000    0.000000\n",
       "25%      0.000000    2.000000   20.125000    0.000000    0.000000    7.910400\n",
       "50%      0.000000    3.000000   28.000000    0.000000    0.000000   14.454200\n",
       "75%      1.000000    3.000000   38.000000    1.000000    0.000000   31.000000\n",
       "max      1.000000    3.000000   80.000000    8.000000    6.000000  512.329200"
      ]
     },
     "execution_count": 5,
     "metadata": {},
     "output_type": "execute_result"
    }
   ],
   "source": [
    "df.describe()"
   ]
  },
  {
   "cell_type": "markdown",
   "id": "178f7fa7",
   "metadata": {
    "papermill": {
     "duration": 0.003528,
     "end_time": "2025-02-11T23:38:30.979122",
     "exception": false,
     "start_time": "2025-02-11T23:38:30.975594",
     "status": "completed"
    },
    "tags": []
   },
   "source": [
    "1. Many Passengers were between 20 to 30 age\n",
    "2. Since sibsp and parch is mostly 0 - it indicated that large portion of passengers travelled alone.\n",
    "3. The difference in ticket pricing varied significantly, indicating wealthy passenger for paying more than 500 units.\n",
    "4. Survival was around 38%"
   ]
  },
  {
   "cell_type": "code",
   "execution_count": 6,
   "id": "308f7710",
   "metadata": {
    "execution": {
     "iopub.execute_input": "2025-02-11T23:38:30.987640Z",
     "iopub.status.busy": "2025-02-11T23:38:30.987355Z",
     "iopub.status.idle": "2025-02-11T23:38:30.992301Z",
     "shell.execute_reply": "2025-02-11T23:38:30.991362Z"
    },
    "papermill": {
     "duration": 0.011472,
     "end_time": "2025-02-11T23:38:30.994204",
     "exception": false,
     "start_time": "2025-02-11T23:38:30.982732",
     "status": "completed"
    },
    "tags": []
   },
   "outputs": [
    {
     "data": {
      "text/plain": [
       "891"
      ]
     },
     "execution_count": 6,
     "metadata": {},
     "output_type": "execute_result"
    }
   ],
   "source": [
    "#Total Passengers\n",
    "len(df)\n"
   ]
  },
  {
   "cell_type": "code",
   "execution_count": 7,
   "id": "c1dea000",
   "metadata": {
    "execution": {
     "iopub.execute_input": "2025-02-11T23:38:31.004401Z",
     "iopub.status.busy": "2025-02-11T23:38:31.004028Z",
     "iopub.status.idle": "2025-02-11T23:38:31.012020Z",
     "shell.execute_reply": "2025-02-11T23:38:31.011223Z"
    },
    "papermill": {
     "duration": 0.014143,
     "end_time": "2025-02-11T23:38:31.013266",
     "exception": false,
     "start_time": "2025-02-11T23:38:30.999123",
     "status": "completed"
    },
    "tags": []
   },
   "outputs": [
    {
     "data": {
      "text/plain": [
       "survived\n",
       "0    549\n",
       "1    342\n",
       "Name: count, dtype: int64"
      ]
     },
     "execution_count": 7,
     "metadata": {},
     "output_type": "execute_result"
    }
   ],
   "source": [
    "#survival-counts\n",
    "df['survived'].value_counts()"
   ]
  },
  {
   "cell_type": "markdown",
   "id": "38e65141",
   "metadata": {
    "papermill": {
     "duration": 0.003658,
     "end_time": "2025-02-11T23:38:31.021653",
     "exception": false,
     "start_time": "2025-02-11T23:38:31.017995",
     "status": "completed"
    },
    "tags": []
   },
   "source": [
    "Out of 891 only 342 survived.\n"
   ]
  },
  {
   "cell_type": "code",
   "execution_count": 8,
   "id": "71d40e83",
   "metadata": {
    "execution": {
     "iopub.execute_input": "2025-02-11T23:38:31.030619Z",
     "iopub.status.busy": "2025-02-11T23:38:31.030288Z",
     "iopub.status.idle": "2025-02-11T23:38:31.036953Z",
     "shell.execute_reply": "2025-02-11T23:38:31.035998Z"
    },
    "papermill": {
     "duration": 0.013354,
     "end_time": "2025-02-11T23:38:31.038808",
     "exception": false,
     "start_time": "2025-02-11T23:38:31.025454",
     "status": "completed"
    },
    "tags": []
   },
   "outputs": [
    {
     "data": {
      "text/plain": [
       "38.38383838383838"
      ]
     },
     "execution_count": 8,
     "metadata": {},
     "output_type": "execute_result"
    }
   ],
   "source": [
    "#survival rate\n",
    "(df['survived'].value_counts().loc[1]/len(df))*100"
   ]
  },
  {
   "cell_type": "code",
   "execution_count": 9,
   "id": "ebb9e65f",
   "metadata": {
    "execution": {
     "iopub.execute_input": "2025-02-11T23:38:31.048967Z",
     "iopub.status.busy": "2025-02-11T23:38:31.048571Z",
     "iopub.status.idle": "2025-02-11T23:38:31.060453Z",
     "shell.execute_reply": "2025-02-11T23:38:31.059537Z"
    },
    "papermill": {
     "duration": 0.018173,
     "end_time": "2025-02-11T23:38:31.061665",
     "exception": false,
     "start_time": "2025-02-11T23:38:31.043492",
     "status": "completed"
    },
    "tags": []
   },
   "outputs": [
    {
     "data": {
      "text/plain": [
       "pclass\n",
       "1    0.629630\n",
       "2    0.472826\n",
       "3    0.242363\n",
       "Name: survived, dtype: float64"
      ]
     },
     "execution_count": 9,
     "metadata": {},
     "output_type": "execute_result"
    }
   ],
   "source": [
    "#gender survival\n",
    "gender_survival=df.groupby('sex')['survived'].mean()\n",
    "gender_survival\n",
    "class_survival = df.groupby('pclass')['survived'].mean()\n",
    "\n",
    "class_survival\n"
   ]
  },
  {
   "cell_type": "markdown",
   "id": "0654dea1",
   "metadata": {
    "papermill": {
     "duration": 0.003719,
     "end_time": "2025-02-11T23:38:31.069819",
     "exception": false,
     "start_time": "2025-02-11T23:38:31.066100",
     "status": "completed"
    },
    "tags": []
   },
   "source": [
    "The gender survival rate depicts 74% women survived which is alot higher than male survival, this can help us conclude historic reports that women and children were give priority for lifeboat.\n"
   ]
  },
  {
   "cell_type": "markdown",
   "id": "c49083e5",
   "metadata": {
    "papermill": {
     "duration": 0.003646,
     "end_time": "2025-02-11T23:38:31.077329",
     "exception": false,
     "start_time": "2025-02-11T23:38:31.073683",
     "status": "completed"
    },
    "tags": []
   },
   "source": [
    "\n"
   ]
  },
  {
   "cell_type": "code",
   "execution_count": 10,
   "id": "b3681a58",
   "metadata": {
    "execution": {
     "iopub.execute_input": "2025-02-11T23:38:31.086239Z",
     "iopub.status.busy": "2025-02-11T23:38:31.085870Z",
     "iopub.status.idle": "2025-02-11T23:38:31.392031Z",
     "shell.execute_reply": "2025-02-11T23:38:31.391139Z"
    },
    "papermill": {
     "duration": 0.312857,
     "end_time": "2025-02-11T23:38:31.393913",
     "exception": false,
     "start_time": "2025-02-11T23:38:31.081056",
     "status": "completed"
    },
    "tags": []
   },
   "outputs": [
    {
     "data": {
      "image/png": "[encoded data removed]",
      "text/plain": [
       "<Figure size 640x480 with 1 Axes>"
      ]
     },
     "metadata": {},
     "output_type": "display_data"
    }
   ],
   "source": [
    "sns.barplot(x='pclass',y='survived', data=df)\n",
    "plt.title('class survival rate')\n",
    "plt.show()\n"
   ]
  },
  {
   "cell_type": "markdown",
   "id": "e4bc4f2e",
   "metadata": {
    "papermill": {
     "duration": 0.004408,
     "end_time": "2025-02-11T23:38:31.404343",
     "exception": false,
     "start_time": "2025-02-11T23:38:31.399935",
     "status": "completed"
    },
    "tags": []
   },
   "source": [
    "class 1 had higher survival rate than class 3, concluding money was given importance at point of choosing life boat\n"
   ]
  },
  {
   "cell_type": "code",
   "execution_count": 11,
   "id": "dfa7c6b7",
   "metadata": {
    "execution": {
     "iopub.execute_input": "2025-02-11T23:38:31.416946Z",
     "iopub.status.busy": "2025-02-11T23:38:31.416479Z",
     "iopub.status.idle": "2025-02-11T23:38:31.568671Z",
     "shell.execute_reply": "2025-02-11T23:38:31.567622Z"
    },
    "papermill": {
     "duration": 0.161115,
     "end_time": "2025-02-11T23:38:31.570364",
     "exception": false,
     "start_time": "2025-02-11T23:38:31.409249",
     "status": "completed"
    },
    "tags": []
   },
   "outputs": [
    {
     "data": {
      "image/png": "[encoded data removed]",
      "text/plain": [
       "<Figure size 640x480 with 1 Axes>"
      ]
     },
     "metadata": {},
     "output_type": "display_data"
    }
   ],
   "source": [
    "sns.barplot(x='sex',y='survived', data=df)\n",
    "plt.title('Gender survival rate')\n",
    "plt.show()"
   ]
  },
  {
   "cell_type": "markdown",
   "id": "c8a8caf3",
   "metadata": {
    "papermill": {
     "duration": 0.004523,
     "end_time": "2025-02-11T23:38:31.580556",
     "exception": false,
     "start_time": "2025-02-11T23:38:31.576033",
     "status": "completed"
    },
    "tags": []
   },
   "source": [
    "The above graph proves the fact that female and children were high priority for saving the lives."
   ]
  },
  {
   "cell_type": "code",
   "execution_count": 12,
   "id": "446032a6",
   "metadata": {
    "execution": {
     "iopub.execute_input": "2025-02-11T23:38:31.591587Z",
     "iopub.status.busy": "2025-02-11T23:38:31.591209Z",
     "iopub.status.idle": "2025-02-11T23:38:31.844909Z",
     "shell.execute_reply": "2025-02-11T23:38:31.843828Z"
    },
    "papermill": {
     "duration": 0.261124,
     "end_time": "2025-02-11T23:38:31.846325",
     "exception": false,
     "start_time": "2025-02-11T23:38:31.585201",
     "status": "completed"
    },
    "tags": []
   },
   "outputs": [
    {
     "name": "stderr",
     "output_type": "stream",
     "text": [
      "/usr/local/lib/python3.10/dist-packages/seaborn/_oldcore.py:1119: FutureWarning: use_inf_as_na option is deprecated and will be removed in a future version. Convert inf values to NaN before operating instead.\n",
      "  with pd.option_context('mode.use_inf_as_na', True):\n"
     ]
    },
    {
     "data": {
      "image/png": "[encoded data removed]",
      "text/plain": [
       "<Figure size 1000x500 with 1 Axes>"
      ]
     },
     "metadata": {},
     "output_type": "display_data"
    }
   ],
   "source": [
    "# Age distribution\n",
    "plt.figure(figsize=(10, 5))\n",
    "sns.histplot(df['age'], bins=30, kde=True)\n",
    "plt.title(\"Age Distribution of Passengers\")\n",
    "plt.show()\n",
    "\n"
   ]
  },
  {
   "cell_type": "raw",
   "id": "cc897564",
   "metadata": {
    "papermill": {
     "duration": 0.004952,
     "end_time": "2025-02-11T23:38:31.857225",
     "exception": false,
     "start_time": "2025-02-11T23:38:31.852273",
     "status": "completed"
    },
    "tags": []
   },
   "source": []
  },
  {
   "cell_type": "markdown",
   "id": "bfa2ac03",
   "metadata": {
    "papermill": {
     "duration": 0.004988,
     "end_time": "2025-02-11T23:38:31.867270",
     "exception": false,
     "start_time": "2025-02-11T23:38:31.862282",
     "status": "completed"
    },
    "tags": []
   },
   "source": []
  },
  {
   "cell_type": "markdown",
   "id": "7bc76cd3",
   "metadata": {
    "papermill": {
     "duration": 0.004751,
     "end_time": "2025-02-11T23:38:31.877028",
     "exception": false,
     "start_time": "2025-02-11T23:38:31.872277",
     "status": "completed"
    },
    "tags": []
   },
   "source": [
    "This graph clearly shows that the majority of passengers were between 20 and 30 years old, indicating that young adults made up a significant portion of those on board."
   ]
  },
  {
   "cell_type": "code",
   "execution_count": 13,
   "id": "f5090bc0",
   "metadata": {
    "execution": {
     "iopub.execute_input": "2025-02-11T23:38:31.888266Z",
     "iopub.status.busy": "2025-02-11T23:38:31.887993Z",
     "iopub.status.idle": "2025-02-11T23:38:32.063290Z",
     "shell.execute_reply": "2025-02-11T23:38:32.061973Z"
    },
    "papermill": {
     "duration": 0.182666,
     "end_time": "2025-02-11T23:38:32.064638",
     "exception": false,
     "start_time": "2025-02-11T23:38:31.881972",
     "status": "completed"
    },
    "tags": []
   },
   "outputs": [
    {
     "name": "stderr",
     "output_type": "stream",
     "text": [
      "/usr/local/lib/python3.10/dist-packages/seaborn/_oldcore.py:1119: FutureWarning: use_inf_as_na option is deprecated and will be removed in a future version. Convert inf values to NaN before operating instead.\n",
      "  with pd.option_context('mode.use_inf_as_na', True):\n"
     ]
    },
    {
     "data": {
      "image/png": "[encoded data removed]",
      "text/plain": [
       "<Figure size 1000x500 with 1 Axes>"
      ]
     },
     "metadata": {},
     "output_type": "display_data"
    }
   ],
   "source": [
    "# Fare distribution\n",
    "plt.figure(figsize=(10, 5))\n",
    "sns.histplot(df['fare'], bins=30, kde=True)\n",
    "plt.title(\"Fare Distribution\")\n",
    "plt.show()"
   ]
  },
  {
   "cell_type": "markdown",
   "id": "988183db",
   "metadata": {
    "papermill": {
     "duration": 0.005395,
     "end_time": "2025-02-11T23:38:32.076277",
     "exception": false,
     "start_time": "2025-02-11T23:38:32.070882",
     "status": "completed"
    },
    "tags": []
   },
   "source": [
    "The graph depicts majority of people payed lower fares compared to higher, which indictaes third class people were in majority.\n"
   ]
  },
  {
   "cell_type": "markdown",
   "id": "816d5fca",
   "metadata": {
    "papermill": {
     "duration": 0.007554,
     "end_time": "2025-02-11T23:38:32.090649",
     "exception": false,
     "start_time": "2025-02-11T23:38:32.083095",
     "status": "completed"
    },
    "tags": []
   },
   "source": []
  }
 ],
 "metadata": {
  "kaggle": {
   "accelerator": "none",
   "dataSources": [
    {
     "databundleVersionId": 26502,
     "sourceId": 3136,
     "sourceType": "competition"
    }
   ],
   "dockerImageVersionId": 30839,
   "isGpuEnabled": false,
   "isInternetEnabled": true,
   "language": "python",
   "sourceType": "notebook"
  },
  "kernelspec": {
   "display_name": "Python 3",
   "language": "python",
   "name": "python3"
  },
  "language_info": {
   "codemirror_mode": {
    "name": "ipython",
    "version": 3
   },
   "file_extension": ".py",
   "mimetype": "text/x-python",
   "name": "python",
   "nbconvert_exporter": "python",
   "pygments_lexer": "ipython3",
   "version": "3.10.12"
  },
  "papermill": {
   "default_parameters": {},
   "duration": 9.062439,
   "end_time": "2025-02-11T23:38:32.817618",
   "environment_variables": {},
   "exception": null,
   "input_path": "__notebook__.ipynb",
   "output_path": "__notebook__.ipynb",
   "parameters": {},
   "start_time": "2025-02-11T23:38:23.755179",
   "version": "2.6.0"
  }
 },
 "nbformat": 4,
 "nbformat_minor": 5
}
